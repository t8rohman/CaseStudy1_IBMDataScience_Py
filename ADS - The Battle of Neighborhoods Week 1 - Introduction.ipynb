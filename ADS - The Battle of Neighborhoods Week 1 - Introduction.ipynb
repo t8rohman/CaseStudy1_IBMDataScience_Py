{
 "cells": [
  {
   "cell_type": "markdown",
   "metadata": {},
   "source": [
    "### Introduction"
   ]
  },
  {
   "cell_type": "markdown",
   "metadata": {},
   "source": [
    "The project aims at selecting London's safest borough based on total crimes, mapping the borough's neighbourhoods to find the 10 most dangerous places in each neighborhood and eventually clustering the neighbourhoods using k-mean clustering methodology. \n",
    "\n",
    "The study is mainly aimed at people seeking to move to London. Safety is considered as a top concern when moving to a new place to finalize a neighborhood to hunt for an apartment. When people don't feel comfortable at home, then they won't be able to enjoy living there. The data on crime will provide an insight into this problem.\n",
    "\n",
    "Finally, this project hopefully will solve this problem and could give best location to move to based on several considerations."
   ]
  }
 ],
 "metadata": {
  "kernelspec": {
   "display_name": "Python 3",
   "language": "python",
   "name": "python3"
  },
  "language_info": {
   "codemirror_mode": {
    "name": "ipython",
    "version": 3
   },
   "file_extension": ".py",
   "mimetype": "text/x-python",
   "name": "python",
   "nbconvert_exporter": "python",
   "pygments_lexer": "ipython3",
   "version": "3.8.3"
  }
 },
 "nbformat": 4,
 "nbformat_minor": 4
}
